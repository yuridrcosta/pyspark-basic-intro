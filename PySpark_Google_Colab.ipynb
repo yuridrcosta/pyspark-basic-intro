{
  "nbformat": 4,
  "nbformat_minor": 0,
  "metadata": {
    "colab": {
      "name": "PySpark Google Colab.ipynb",
      "provenance": [],
      "collapsed_sections": []
    },
    "kernelspec": {
      "name": "python3",
      "display_name": "Python 3"
    },
    "language_info": {
      "name": "python"
    }
  },
  "cells": [
    {
      "cell_type": "markdown",
      "source": [
        "**Autor:** Yuri Dimitri Ramos Costa\n",
        "\n",
        "**E-mail:** yuridrcosta@gmail.com\n",
        "\n",
        "**Início** em 26/08/2022\n",
        "\n",
        "**Última atualização** em 26/08/2022"
      ],
      "metadata": {
        "id": "KXJIM3tnkN87"
      }
    },
    {
      "cell_type": "markdown",
      "source": [
        "# Instalação"
      ],
      "metadata": {
        "id": "dlKy83UnVdRL"
      }
    },
    {
      "cell_type": "markdown",
      "source": [
        "Baseado nas informações contidas em https://colab.research.google.com/github/carlosfab/sigmoidal_ai/blob/master/Big_Data_Como_instalar_o_PySpark_no_Google_Colab.ipynb#scrollTo=RkpG11RQPbRf"
      ],
      "metadata": {
        "id": "g9u8cXb3Vyh6"
      }
    },
    {
      "cell_type": "code",
      "execution_count": 1,
      "metadata": {
        "id": "0vd0u3mKVXQR"
      },
      "outputs": [],
      "source": [
        "# instalar as dependências\n",
        "!apt-get install openjdk-8-jdk-headless -qq > /dev/null\n",
        "!wget -q https://archive.apache.org/dist/spark/spark-2.4.4/spark-2.4.4-bin-hadoop2.7.tgz\n",
        "!tar xf spark-2.4.4-bin-hadoop2.7.tgz\n",
        "!pip install -q findspark"
      ]
    },
    {
      "cell_type": "code",
      "source": [
        "# configurar as variáveis de ambiente\n",
        "import os\n",
        "os.environ[\"JAVA_HOME\"] = \"/usr/lib/jvm/java-8-openjdk-amd64\"\n",
        "os.environ[\"SPARK_HOME\"] = \"/content/spark-2.4.4-bin-hadoop2.7\"\n",
        "\n",
        "# tornar o pyspark \"importável\"\n",
        "import findspark\n",
        "findspark.init('spark-2.4.4-bin-hadoop2.7')"
      ],
      "metadata": {
        "id": "xqt85tPIVrZ6"
      },
      "execution_count": 2,
      "outputs": []
    },
    {
      "cell_type": "markdown",
      "source": [
        "# Criação de DataFrames"
      ],
      "metadata": {
        "id": "g__xhrZ8V9Rx"
      }
    },
    {
      "cell_type": "markdown",
      "source": [
        "## Criação da [sessão do Spark](https://spark.apache.org/docs/latest/api/python/reference/pyspark.sql/api/pyspark.sql.SparkSession.html)"
      ],
      "metadata": {
        "id": "inuzxhtCWqa6"
      }
    },
    {
      "cell_type": "code",
      "source": [
        "from pyspark.sql import SparkSession\n",
        "sc = SparkSession.builder \\\n",
        "        .master(\"local\") \\\n",
        "        .appName(\"intro-pypspark-colab\")\\\n",
        "        .getOrCreate()"
      ],
      "metadata": {
        "id": "F1uPpRkZWBox"
      },
      "execution_count": 3,
      "outputs": []
    },
    {
      "cell_type": "markdown",
      "source": [
        "## Lendo arquivo .csv"
      ],
      "metadata": {
        "id": "PSqNqp-wW9q6"
      }
    },
    {
      "cell_type": "markdown",
      "source": [
        "É possível ler um arquivo `.csv` utilizando o `.read.format(\"csv\").load(CAMINHO_PARA_ARQUIVO)` ou utilizando o `.read.csv(CAMINHO_PARA_ARQUIVO)`\n",
        "\n",
        "A lista de opções relacionadas a leitura dos conjuntos de dados está [disponível nesse site](https://dbmstutorials.com/pyspark/spark-read-write-dataframe-options.html)."
      ],
      "metadata": {
        "id": "-BvctOzQXPIq"
      }
    },
    {
      "cell_type": "code",
      "source": [
        "TRAINING_DATASET_FILEPATH = 'sample_data/california_housing_train.csv'\n",
        "TEST_DATASET_FILEPATH = 'sample_data/california_housing_test.csv'"
      ],
      "metadata": {
        "id": "1koI2eDmXuPU"
      },
      "execution_count": 6,
      "outputs": []
    },
    {
      "cell_type": "code",
      "source": [
        "train_df = sc.read.option('header',True)\\\n",
        "                .csv(TRAINING_DATASET_FILEPATH)\n",
        "test_df = sc.read.option('header',True)\\\n",
        "                .csv(TEST_DATASET_FILEPATH)"
      ],
      "metadata": {
        "id": "Xk0dmEVeYh-c"
      },
      "execution_count": 15,
      "outputs": []
    },
    {
      "cell_type": "markdown",
      "source": [
        "# Manipulação de DataFrames"
      ],
      "metadata": {
        "id": "omeesKhnnIVb"
      }
    },
    {
      "cell_type": "markdown",
      "source": [
        "## Visualização do DataFrame"
      ],
      "metadata": {
        "id": "Ds6REXD2dQQT"
      }
    },
    {
      "cell_type": "code",
      "source": [
        "train_df.printSchema()"
      ],
      "metadata": {
        "colab": {
          "base_uri": "https://localhost:8080/"
        },
        "id": "-63YUC_OYspj",
        "outputId": "57430ea0-57aa-488b-ad5d-edba697db320"
      },
      "execution_count": 16,
      "outputs": [
        {
          "output_type": "stream",
          "name": "stdout",
          "text": [
            "root\n",
            " |-- longitude: string (nullable = true)\n",
            " |-- latitude: string (nullable = true)\n",
            " |-- housing_median_age: string (nullable = true)\n",
            " |-- total_rooms: string (nullable = true)\n",
            " |-- total_bedrooms: string (nullable = true)\n",
            " |-- population: string (nullable = true)\n",
            " |-- households: string (nullable = true)\n",
            " |-- median_income: string (nullable = true)\n",
            " |-- median_house_value: string (nullable = true)\n",
            "\n"
          ]
        }
      ]
    },
    {
      "cell_type": "code",
      "source": [
        "train_df.columns"
      ],
      "metadata": {
        "colab": {
          "base_uri": "https://localhost:8080/"
        },
        "id": "FJ8rLPjulvHF",
        "outputId": "aa519315-7b6a-48ca-c273-4fb0da40859c"
      },
      "execution_count": 41,
      "outputs": [
        {
          "output_type": "execute_result",
          "data": {
            "text/plain": [
              "['longitude',\n",
              " 'latitude',\n",
              " 'housing_median_age',\n",
              " 'total_rooms',\n",
              " 'total_bedrooms',\n",
              " 'population',\n",
              " 'households',\n",
              " 'median_income',\n",
              " 'median_house_value']"
            ]
          },
          "metadata": {},
          "execution_count": 41
        }
      ]
    },
    {
      "cell_type": "code",
      "source": [
        "test_df.show(10)"
      ],
      "metadata": {
        "colab": {
          "base_uri": "https://localhost:8080/"
        },
        "id": "f1LJiuPYc8Ay",
        "outputId": "8aa34d46-aed3-49ca-9d2b-1ca4463d28ec"
      },
      "execution_count": 17,
      "outputs": [
        {
          "output_type": "stream",
          "name": "stdout",
          "text": [
            "+-----------+---------+------------------+-----------+--------------+-----------+----------+-------------+------------------+\n",
            "|  longitude| latitude|housing_median_age|total_rooms|total_bedrooms| population|households|median_income|median_house_value|\n",
            "+-----------+---------+------------------+-----------+--------------+-----------+----------+-------------+------------------+\n",
            "|-122.050000|37.370000|         27.000000|3885.000000|    661.000000|1537.000000|606.000000|     6.608500|     344700.000000|\n",
            "|-118.300000|34.260000|         43.000000|1510.000000|    310.000000| 809.000000|277.000000|     3.599000|     176500.000000|\n",
            "|-117.810000|33.780000|         27.000000|3589.000000|    507.000000|1484.000000|495.000000|     5.793400|     270500.000000|\n",
            "|-118.360000|33.820000|         28.000000|  67.000000|     15.000000|  49.000000| 11.000000|     6.135900|     330000.000000|\n",
            "|-119.670000|36.330000|         19.000000|1241.000000|    244.000000| 850.000000|237.000000|     2.937500|      81700.000000|\n",
            "|-119.560000|36.510000|         37.000000|1018.000000|    213.000000| 663.000000|204.000000|     1.663500|      67000.000000|\n",
            "|-121.430000|38.630000|         43.000000|1009.000000|    225.000000| 604.000000|218.000000|     1.664100|      67000.000000|\n",
            "|-120.650000|35.480000|         19.000000|2310.000000|    471.000000|1341.000000|441.000000|     3.225000|     166900.000000|\n",
            "|-122.840000|38.400000|         15.000000|3080.000000|    617.000000|1446.000000|599.000000|     3.669600|     194400.000000|\n",
            "|-118.020000|34.080000|         31.000000|2402.000000|    632.000000|2830.000000|603.000000|     2.333300|     164200.000000|\n",
            "+-----------+---------+------------------+-----------+--------------+-----------+----------+-------------+------------------+\n",
            "only showing top 10 rows\n",
            "\n"
          ]
        }
      ]
    },
    {
      "cell_type": "code",
      "source": [
        "test_df.toPandas()"
      ],
      "metadata": {
        "colab": {
          "base_uri": "https://localhost:8080/",
          "height": 424
        },
        "id": "L1nn0837dHUa",
        "outputId": "ec808bd8-f829-408b-b4a4-5e85a5be1709"
      },
      "execution_count": 18,
      "outputs": [
        {
          "output_type": "execute_result",
          "data": {
            "text/plain": [
              "        longitude   latitude housing_median_age  total_rooms total_bedrooms  \\\n",
              "0     -122.050000  37.370000          27.000000  3885.000000     661.000000   \n",
              "1     -118.300000  34.260000          43.000000  1510.000000     310.000000   \n",
              "2     -117.810000  33.780000          27.000000  3589.000000     507.000000   \n",
              "3     -118.360000  33.820000          28.000000    67.000000      15.000000   \n",
              "4     -119.670000  36.330000          19.000000  1241.000000     244.000000   \n",
              "...           ...        ...                ...          ...            ...   \n",
              "2995  -119.860000  34.420000          23.000000  1450.000000     642.000000   \n",
              "2996  -118.140000  34.060000          27.000000  5257.000000    1082.000000   \n",
              "2997  -119.700000  36.300000          10.000000   956.000000     201.000000   \n",
              "2998  -117.120000  34.100000          40.000000    96.000000      14.000000   \n",
              "2999  -119.630000  34.420000          42.000000  1765.000000     263.000000   \n",
              "\n",
              "       population   households median_income median_house_value  \n",
              "0     1537.000000   606.000000      6.608500      344700.000000  \n",
              "1      809.000000   277.000000      3.599000      176500.000000  \n",
              "2     1484.000000   495.000000      5.793400      270500.000000  \n",
              "3       49.000000    11.000000      6.135900      330000.000000  \n",
              "4      850.000000   237.000000      2.937500       81700.000000  \n",
              "...           ...          ...           ...                ...  \n",
              "2995  1258.000000   607.000000      1.179000      225000.000000  \n",
              "2996  3496.000000  1036.000000      3.390600      237200.000000  \n",
              "2997   693.000000   220.000000      2.289500       62000.000000  \n",
              "2998    46.000000    14.000000      3.270800      162500.000000  \n",
              "2999   753.000000   260.000000      8.560800      500001.000000  \n",
              "\n",
              "[3000 rows x 9 columns]"
            ],
            "text/html": [
              "\n",
              "  <div id=\"df-96c57472-63ef-482a-b1bb-93b3583c2298\">\n",
              "    <div class=\"colab-df-container\">\n",
              "      <div>\n",
              "<style scoped>\n",
              "    .dataframe tbody tr th:only-of-type {\n",
              "        vertical-align: middle;\n",
              "    }\n",
              "\n",
              "    .dataframe tbody tr th {\n",
              "        vertical-align: top;\n",
              "    }\n",
              "\n",
              "    .dataframe thead th {\n",
              "        text-align: right;\n",
              "    }\n",
              "</style>\n",
              "<table border=\"1\" class=\"dataframe\">\n",
              "  <thead>\n",
              "    <tr style=\"text-align: right;\">\n",
              "      <th></th>\n",
              "      <th>longitude</th>\n",
              "      <th>latitude</th>\n",
              "      <th>housing_median_age</th>\n",
              "      <th>total_rooms</th>\n",
              "      <th>total_bedrooms</th>\n",
              "      <th>population</th>\n",
              "      <th>households</th>\n",
              "      <th>median_income</th>\n",
              "      <th>median_house_value</th>\n",
              "    </tr>\n",
              "  </thead>\n",
              "  <tbody>\n",
              "    <tr>\n",
              "      <th>0</th>\n",
              "      <td>-122.050000</td>\n",
              "      <td>37.370000</td>\n",
              "      <td>27.000000</td>\n",
              "      <td>3885.000000</td>\n",
              "      <td>661.000000</td>\n",
              "      <td>1537.000000</td>\n",
              "      <td>606.000000</td>\n",
              "      <td>6.608500</td>\n",
              "      <td>344700.000000</td>\n",
              "    </tr>\n",
              "    <tr>\n",
              "      <th>1</th>\n",
              "      <td>-118.300000</td>\n",
              "      <td>34.260000</td>\n",
              "      <td>43.000000</td>\n",
              "      <td>1510.000000</td>\n",
              "      <td>310.000000</td>\n",
              "      <td>809.000000</td>\n",
              "      <td>277.000000</td>\n",
              "      <td>3.599000</td>\n",
              "      <td>176500.000000</td>\n",
              "    </tr>\n",
              "    <tr>\n",
              "      <th>2</th>\n",
              "      <td>-117.810000</td>\n",
              "      <td>33.780000</td>\n",
              "      <td>27.000000</td>\n",
              "      <td>3589.000000</td>\n",
              "      <td>507.000000</td>\n",
              "      <td>1484.000000</td>\n",
              "      <td>495.000000</td>\n",
              "      <td>5.793400</td>\n",
              "      <td>270500.000000</td>\n",
              "    </tr>\n",
              "    <tr>\n",
              "      <th>3</th>\n",
              "      <td>-118.360000</td>\n",
              "      <td>33.820000</td>\n",
              "      <td>28.000000</td>\n",
              "      <td>67.000000</td>\n",
              "      <td>15.000000</td>\n",
              "      <td>49.000000</td>\n",
              "      <td>11.000000</td>\n",
              "      <td>6.135900</td>\n",
              "      <td>330000.000000</td>\n",
              "    </tr>\n",
              "    <tr>\n",
              "      <th>4</th>\n",
              "      <td>-119.670000</td>\n",
              "      <td>36.330000</td>\n",
              "      <td>19.000000</td>\n",
              "      <td>1241.000000</td>\n",
              "      <td>244.000000</td>\n",
              "      <td>850.000000</td>\n",
              "      <td>237.000000</td>\n",
              "      <td>2.937500</td>\n",
              "      <td>81700.000000</td>\n",
              "    </tr>\n",
              "    <tr>\n",
              "      <th>...</th>\n",
              "      <td>...</td>\n",
              "      <td>...</td>\n",
              "      <td>...</td>\n",
              "      <td>...</td>\n",
              "      <td>...</td>\n",
              "      <td>...</td>\n",
              "      <td>...</td>\n",
              "      <td>...</td>\n",
              "      <td>...</td>\n",
              "    </tr>\n",
              "    <tr>\n",
              "      <th>2995</th>\n",
              "      <td>-119.860000</td>\n",
              "      <td>34.420000</td>\n",
              "      <td>23.000000</td>\n",
              "      <td>1450.000000</td>\n",
              "      <td>642.000000</td>\n",
              "      <td>1258.000000</td>\n",
              "      <td>607.000000</td>\n",
              "      <td>1.179000</td>\n",
              "      <td>225000.000000</td>\n",
              "    </tr>\n",
              "    <tr>\n",
              "      <th>2996</th>\n",
              "      <td>-118.140000</td>\n",
              "      <td>34.060000</td>\n",
              "      <td>27.000000</td>\n",
              "      <td>5257.000000</td>\n",
              "      <td>1082.000000</td>\n",
              "      <td>3496.000000</td>\n",
              "      <td>1036.000000</td>\n",
              "      <td>3.390600</td>\n",
              "      <td>237200.000000</td>\n",
              "    </tr>\n",
              "    <tr>\n",
              "      <th>2997</th>\n",
              "      <td>-119.700000</td>\n",
              "      <td>36.300000</td>\n",
              "      <td>10.000000</td>\n",
              "      <td>956.000000</td>\n",
              "      <td>201.000000</td>\n",
              "      <td>693.000000</td>\n",
              "      <td>220.000000</td>\n",
              "      <td>2.289500</td>\n",
              "      <td>62000.000000</td>\n",
              "    </tr>\n",
              "    <tr>\n",
              "      <th>2998</th>\n",
              "      <td>-117.120000</td>\n",
              "      <td>34.100000</td>\n",
              "      <td>40.000000</td>\n",
              "      <td>96.000000</td>\n",
              "      <td>14.000000</td>\n",
              "      <td>46.000000</td>\n",
              "      <td>14.000000</td>\n",
              "      <td>3.270800</td>\n",
              "      <td>162500.000000</td>\n",
              "    </tr>\n",
              "    <tr>\n",
              "      <th>2999</th>\n",
              "      <td>-119.630000</td>\n",
              "      <td>34.420000</td>\n",
              "      <td>42.000000</td>\n",
              "      <td>1765.000000</td>\n",
              "      <td>263.000000</td>\n",
              "      <td>753.000000</td>\n",
              "      <td>260.000000</td>\n",
              "      <td>8.560800</td>\n",
              "      <td>500001.000000</td>\n",
              "    </tr>\n",
              "  </tbody>\n",
              "</table>\n",
              "<p>3000 rows × 9 columns</p>\n",
              "</div>\n",
              "      <button class=\"colab-df-convert\" onclick=\"convertToInteractive('df-96c57472-63ef-482a-b1bb-93b3583c2298')\"\n",
              "              title=\"Convert this dataframe to an interactive table.\"\n",
              "              style=\"display:none;\">\n",
              "        \n",
              "  <svg xmlns=\"http://www.w3.org/2000/svg\" height=\"24px\"viewBox=\"0 0 24 24\"\n",
              "       width=\"24px\">\n",
              "    <path d=\"M0 0h24v24H0V0z\" fill=\"none\"/>\n",
              "    <path d=\"M18.56 5.44l.94 2.06.94-2.06 2.06-.94-2.06-.94-.94-2.06-.94 2.06-2.06.94zm-11 1L8.5 8.5l.94-2.06 2.06-.94-2.06-.94L8.5 2.5l-.94 2.06-2.06.94zm10 10l.94 2.06.94-2.06 2.06-.94-2.06-.94-.94-2.06-.94 2.06-2.06.94z\"/><path d=\"M17.41 7.96l-1.37-1.37c-.4-.4-.92-.59-1.43-.59-.52 0-1.04.2-1.43.59L10.3 9.45l-7.72 7.72c-.78.78-.78 2.05 0 2.83L4 21.41c.39.39.9.59 1.41.59.51 0 1.02-.2 1.41-.59l7.78-7.78 2.81-2.81c.8-.78.8-2.07 0-2.86zM5.41 20L4 18.59l7.72-7.72 1.47 1.35L5.41 20z\"/>\n",
              "  </svg>\n",
              "      </button>\n",
              "      \n",
              "  <style>\n",
              "    .colab-df-container {\n",
              "      display:flex;\n",
              "      flex-wrap:wrap;\n",
              "      gap: 12px;\n",
              "    }\n",
              "\n",
              "    .colab-df-convert {\n",
              "      background-color: #E8F0FE;\n",
              "      border: none;\n",
              "      border-radius: 50%;\n",
              "      cursor: pointer;\n",
              "      display: none;\n",
              "      fill: #1967D2;\n",
              "      height: 32px;\n",
              "      padding: 0 0 0 0;\n",
              "      width: 32px;\n",
              "    }\n",
              "\n",
              "    .colab-df-convert:hover {\n",
              "      background-color: #E2EBFA;\n",
              "      box-shadow: 0px 1px 2px rgba(60, 64, 67, 0.3), 0px 1px 3px 1px rgba(60, 64, 67, 0.15);\n",
              "      fill: #174EA6;\n",
              "    }\n",
              "\n",
              "    [theme=dark] .colab-df-convert {\n",
              "      background-color: #3B4455;\n",
              "      fill: #D2E3FC;\n",
              "    }\n",
              "\n",
              "    [theme=dark] .colab-df-convert:hover {\n",
              "      background-color: #434B5C;\n",
              "      box-shadow: 0px 1px 3px 1px rgba(0, 0, 0, 0.15);\n",
              "      filter: drop-shadow(0px 1px 2px rgba(0, 0, 0, 0.3));\n",
              "      fill: #FFFFFF;\n",
              "    }\n",
              "  </style>\n",
              "\n",
              "      <script>\n",
              "        const buttonEl =\n",
              "          document.querySelector('#df-96c57472-63ef-482a-b1bb-93b3583c2298 button.colab-df-convert');\n",
              "        buttonEl.style.display =\n",
              "          google.colab.kernel.accessAllowed ? 'block' : 'none';\n",
              "\n",
              "        async function convertToInteractive(key) {\n",
              "          const element = document.querySelector('#df-96c57472-63ef-482a-b1bb-93b3583c2298');\n",
              "          const dataTable =\n",
              "            await google.colab.kernel.invokeFunction('convertToInteractive',\n",
              "                                                     [key], {});\n",
              "          if (!dataTable) return;\n",
              "\n",
              "          const docLinkHtml = 'Like what you see? Visit the ' +\n",
              "            '<a target=\"_blank\" href=https://colab.research.google.com/notebooks/data_table.ipynb>data table notebook</a>'\n",
              "            + ' to learn more about interactive tables.';\n",
              "          element.innerHTML = '';\n",
              "          dataTable['output_type'] = 'display_data';\n",
              "          await google.colab.output.renderOutput(dataTable, element);\n",
              "          const docLink = document.createElement('div');\n",
              "          docLink.innerHTML = docLinkHtml;\n",
              "          element.appendChild(docLink);\n",
              "        }\n",
              "      </script>\n",
              "    </div>\n",
              "  </div>\n",
              "  "
            ]
          },
          "metadata": {},
          "execution_count": 18
        }
      ]
    },
    {
      "cell_type": "markdown",
      "source": [
        "Note que a função `.describe()` retorna um DataFrame assim como no Pandas, porém o Spark não mostra automaticamente."
      ],
      "metadata": {
        "id": "lYcr0DGVl3I8"
      }
    },
    {
      "cell_type": "code",
      "source": [
        "test_df.describe().show()"
      ],
      "metadata": {
        "colab": {
          "base_uri": "https://localhost:8080/"
        },
        "id": "E7_FGW-ilycr",
        "outputId": "a54ef89a-8b44-420a-ffa5-3fed7f70049b"
      },
      "execution_count": 43,
      "outputs": [
        {
          "output_type": "stream",
          "name": "stdout",
          "text": [
            "+-------+-------------------+------------------+------------------+-----------------+------------------+------------------+------------------+------------------+------------------+\n",
            "|summary|          longitude|          latitude|housing_median_age|      total_rooms|    total_bedrooms|        population|        households|     median_income|median_house_value|\n",
            "+-------+-------------------+------------------+------------------+-----------------+------------------+------------------+------------------+------------------+------------------+\n",
            "|  count|               3000|              3000|              3000|             3000|              3000|              3000|              3000|              3000|              3000|\n",
            "|   mean|-119.58920000000029| 35.63538999999999|28.845333333333333|2599.578666666667| 529.9506666666666|1402.7986666666666|           489.912| 3.807271799999998|        205846.275|\n",
            "| stddev| 1.9949362939550166|2.1296695233438334|12.555395554955757|2155.593331625582|415.65436813632306|1030.5430124122424|365.42270980552615|1.8545117296914775|113119.68746964622|\n",
            "|    min|        -114.490000|         32.560000|          1.000000|      1000.000000|        100.000000|        100.000000|         10.000000|          0.499900|     100000.000000|\n",
            "|    max|        -124.180000|         41.920000|          9.000000|      9998.000000|        999.000000|        999.000000|        998.000000|          9.870800|      99800.000000|\n",
            "+-------+-------------------+------------------+------------------+-----------------+------------------+------------------+------------------+------------------+------------------+\n",
            "\n"
          ]
        }
      ]
    },
    {
      "cell_type": "markdown",
      "source": [
        "## Visualização de coluna"
      ],
      "metadata": {
        "id": "dbflZrpKdVRz"
      }
    },
    {
      "cell_type": "markdown",
      "source": [
        "Note que ao acessar simplesmente a coluna, temos um resultado diferente do Pandas"
      ],
      "metadata": {
        "id": "ESnnMyqBdXjj"
      }
    },
    {
      "cell_type": "code",
      "source": [
        "train_df.longitude"
      ],
      "metadata": {
        "colab": {
          "base_uri": "https://localhost:8080/"
        },
        "id": "72xWw4oddJxz",
        "outputId": "71c7736f-f386-4d8b-9363-075c7959e358"
      },
      "execution_count": 19,
      "outputs": [
        {
          "output_type": "execute_result",
          "data": {
            "text/plain": [
              "Column<b'longitude'>"
            ]
          },
          "metadata": {},
          "execution_count": 19
        }
      ]
    },
    {
      "cell_type": "markdown",
      "source": [
        "Podemos visualizar uma coluna como segue"
      ],
      "metadata": {
        "id": "2eNcg4Hudi8C"
      }
    },
    {
      "cell_type": "code",
      "source": [
        "train_df.select(train_df.longitude).show(7)"
      ],
      "metadata": {
        "colab": {
          "base_uri": "https://localhost:8080/"
        },
        "id": "0rQaKzQwdhMD",
        "outputId": "e4a4450a-2cf0-4ed6-dfcd-d8960c09f7e3"
      },
      "execution_count": 21,
      "outputs": [
        {
          "output_type": "stream",
          "name": "stdout",
          "text": [
            "+-----------+\n",
            "|  longitude|\n",
            "+-----------+\n",
            "|-114.310000|\n",
            "|-114.470000|\n",
            "|-114.560000|\n",
            "|-114.570000|\n",
            "|-114.570000|\n",
            "|-114.580000|\n",
            "|-114.580000|\n",
            "+-----------+\n",
            "only showing top 7 rows\n",
            "\n"
          ]
        }
      ]
    },
    {
      "cell_type": "markdown",
      "source": [
        "## Adicionando coluna"
      ],
      "metadata": {
        "id": "Eh6MUSXBeLCd"
      }
    },
    {
      "cell_type": "markdown",
      "source": [
        "A função `.withColumn()` recebe como parâmetro o nome da coluna a ser criada e uma coluna. \n",
        "\n",
        "Lembrando que como `train_df.longitude` retorna a coluna longitude, então a operação `train_df.longitude + 2` retorna todos os elementos da coluna acrescidos de 2, portando uma coluna também.\n",
        "\n",
        "Para criar uma nova coluna é necessário usar a função [`col()`](https://spark.apache.org/docs/latest/api/python/reference/pyspark.sql/api/pyspark.sql.functions.col.html#pyspark.sql.functions.col). Para criar uma coluna com um valor fixo é necessário utilizar a função [`lit()`](https://spark.apache.org/docs/latest/api/python/reference/pyspark.sql/api/pyspark.sql.functions.lit.html#pyspark.sql.functions.lit)\n",
        "\n",
        "Note que a alteração no DataFrame não é feita *inplace*, logo é necessário receber esse novo DataFrame."
      ],
      "metadata": {
        "id": "vvRFGlXrequD"
      }
    },
    {
      "cell_type": "code",
      "source": [
        "from pyspark.sql.functions import lit"
      ],
      "metadata": {
        "id": "P0CyUAR_fVUb"
      },
      "execution_count": 27,
      "outputs": []
    },
    {
      "cell_type": "code",
      "source": [
        "new_train_df = train_df.withColumn(\"Nova coluna\",  lit('Valor fixo'))"
      ],
      "metadata": {
        "id": "7ZyqEmfSeNEM"
      },
      "execution_count": 35,
      "outputs": []
    },
    {
      "cell_type": "code",
      "source": [
        "train_df.show(4)"
      ],
      "metadata": {
        "colab": {
          "base_uri": "https://localhost:8080/"
        },
        "id": "084g0NtUf30j",
        "outputId": "12a6e3f6-66a7-4e92-eda2-ea223cb92ad4"
      },
      "execution_count": 36,
      "outputs": [
        {
          "output_type": "stream",
          "name": "stdout",
          "text": [
            "+-----------+---------+------------------+-----------+--------------+-----------+----------+-------------+------------------+\n",
            "|  longitude| latitude|housing_median_age|total_rooms|total_bedrooms| population|households|median_income|median_house_value|\n",
            "+-----------+---------+------------------+-----------+--------------+-----------+----------+-------------+------------------+\n",
            "|-114.310000|34.190000|         15.000000|5612.000000|   1283.000000|1015.000000|472.000000|     1.493600|      66900.000000|\n",
            "|-114.470000|34.400000|         19.000000|7650.000000|   1901.000000|1129.000000|463.000000|     1.820000|      80100.000000|\n",
            "|-114.560000|33.690000|         17.000000| 720.000000|    174.000000| 333.000000|117.000000|     1.650900|      85700.000000|\n",
            "|-114.570000|33.640000|         14.000000|1501.000000|    337.000000| 515.000000|226.000000|     3.191700|      73400.000000|\n",
            "+-----------+---------+------------------+-----------+--------------+-----------+----------+-------------+------------------+\n",
            "only showing top 4 rows\n",
            "\n"
          ]
        }
      ]
    },
    {
      "cell_type": "code",
      "source": [
        "new_train_df.show(4)"
      ],
      "metadata": {
        "colab": {
          "base_uri": "https://localhost:8080/"
        },
        "id": "eLyUCEHHgOPb",
        "outputId": "27957c56-8854-4c02-de4f-df2a47bd9f0a"
      },
      "execution_count": 38,
      "outputs": [
        {
          "output_type": "stream",
          "name": "stdout",
          "text": [
            "+-----------+---------+------------------+-----------+--------------+-----------+----------+-------------+------------------+-----------+\n",
            "|  longitude| latitude|housing_median_age|total_rooms|total_bedrooms| population|households|median_income|median_house_value|Nova coluna|\n",
            "+-----------+---------+------------------+-----------+--------------+-----------+----------+-------------+------------------+-----------+\n",
            "|-114.310000|34.190000|         15.000000|5612.000000|   1283.000000|1015.000000|472.000000|     1.493600|      66900.000000| Valor fixo|\n",
            "|-114.470000|34.400000|         19.000000|7650.000000|   1901.000000|1129.000000|463.000000|     1.820000|      80100.000000| Valor fixo|\n",
            "|-114.560000|33.690000|         17.000000| 720.000000|    174.000000| 333.000000|117.000000|     1.650900|      85700.000000| Valor fixo|\n",
            "|-114.570000|33.640000|         14.000000|1501.000000|    337.000000| 515.000000|226.000000|     3.191700|      73400.000000| Valor fixo|\n",
            "+-----------+---------+------------------+-----------+--------------+-----------+----------+-------------+------------------+-----------+\n",
            "only showing top 4 rows\n",
            "\n"
          ]
        }
      ]
    },
    {
      "cell_type": "markdown",
      "source": [
        "## Renomeando coluna"
      ],
      "metadata": {
        "id": "3WIQIJgNlAi0"
      }
    },
    {
      "cell_type": "code",
      "source": [
        "new_train_df = new_train_df.withColumnRenamed(\"Nova coluna\",  'Coluna renomeada')"
      ],
      "metadata": {
        "id": "VokgzJSRlC2C"
      },
      "execution_count": 39,
      "outputs": []
    },
    {
      "cell_type": "code",
      "source": [
        "new_train_df.show(4)"
      ],
      "metadata": {
        "colab": {
          "base_uri": "https://localhost:8080/"
        },
        "id": "5RtWO47ZlI40",
        "outputId": "aad8fe81-d682-4594-844c-f1c5a61cfac5"
      },
      "execution_count": 40,
      "outputs": [
        {
          "output_type": "stream",
          "name": "stdout",
          "text": [
            "+-----------+---------+------------------+-----------+--------------+-----------+----------+-------------+------------------+----------------+\n",
            "|  longitude| latitude|housing_median_age|total_rooms|total_bedrooms| population|households|median_income|median_house_value|Coluna renomeada|\n",
            "+-----------+---------+------------------+-----------+--------------+-----------+----------+-------------+------------------+----------------+\n",
            "|-114.310000|34.190000|         15.000000|5612.000000|   1283.000000|1015.000000|472.000000|     1.493600|      66900.000000|      Valor fixo|\n",
            "|-114.470000|34.400000|         19.000000|7650.000000|   1901.000000|1129.000000|463.000000|     1.820000|      80100.000000|      Valor fixo|\n",
            "|-114.560000|33.690000|         17.000000| 720.000000|    174.000000| 333.000000|117.000000|     1.650900|      85700.000000|      Valor fixo|\n",
            "|-114.570000|33.640000|         14.000000|1501.000000|    337.000000| 515.000000|226.000000|     3.191700|      73400.000000|      Valor fixo|\n",
            "+-----------+---------+------------------+-----------+--------------+-----------+----------+-------------+------------------+----------------+\n",
            "only showing top 4 rows\n",
            "\n"
          ]
        }
      ]
    },
    {
      "cell_type": "markdown",
      "source": [
        "## Filtragem"
      ],
      "metadata": {
        "id": "QO4wMEULnNml"
      }
    },
    {
      "cell_type": "code",
      "source": [
        "train_df.filter(train_df.housing_median_age == 40).show(4)"
      ],
      "metadata": {
        "colab": {
          "base_uri": "https://localhost:8080/"
        },
        "id": "VVACoFW7nO79",
        "outputId": "68c41c44-159e-41e3-e126-f2cdaf1b896e"
      },
      "execution_count": 45,
      "outputs": [
        {
          "output_type": "stream",
          "name": "stdout",
          "text": [
            "+-----------+---------+------------------+-----------+--------------+-----------+----------+-------------+------------------+\n",
            "|  longitude| latitude|housing_median_age|total_rooms|total_bedrooms| population|households|median_income|median_house_value|\n",
            "+-----------+---------+------------------+-----------+--------------+-----------+----------+-------------+------------------+\n",
            "|-116.980000|33.930000|         40.000000|2277.000000|    498.000000|1391.000000|453.000000|     1.947200|      73200.000000|\n",
            "|-117.020000|32.760000|         40.000000|2523.000000|    488.000000| 976.000000|470.000000|     3.110000|     185700.000000|\n",
            "|-117.070000|32.630000|         40.000000|1706.000000|    322.000000| 796.000000|303.000000|     3.558300|     154900.000000|\n",
            "|-117.140000|32.700000|         40.000000|1227.000000|    330.000000|1199.000000|316.000000|     1.218800|      92500.000000|\n",
            "+-----------+---------+------------------+-----------+--------------+-----------+----------+-------------+------------------+\n",
            "only showing top 4 rows\n",
            "\n"
          ]
        }
      ]
    },
    {
      "cell_type": "markdown",
      "source": [
        "## Agrupamentos (Group By)"
      ],
      "metadata": {
        "id": "M6PEir_4ocFU"
      }
    },
    {
      "cell_type": "code",
      "source": [
        "train_df.groupby('housing_median_age').avg().show()"
      ],
      "metadata": {
        "colab": {
          "base_uri": "https://localhost:8080/"
        },
        "id": "pm1j2sfKognW",
        "outputId": "8d5a23e3-8c6d-4e61-f042-efaa0e9556f5"
      },
      "execution_count": 48,
      "outputs": [
        {
          "output_type": "stream",
          "name": "stdout",
          "text": [
            "+------------------+\n",
            "|housing_median_age|\n",
            "+------------------+\n",
            "|          1.000000|\n",
            "|         37.000000|\n",
            "|         32.000000|\n",
            "|         47.000000|\n",
            "|         45.000000|\n",
            "|         11.000000|\n",
            "|         18.000000|\n",
            "|          3.000000|\n",
            "|         17.000000|\n",
            "|         33.000000|\n",
            "|          4.000000|\n",
            "|         19.000000|\n",
            "|         44.000000|\n",
            "|         39.000000|\n",
            "|         23.000000|\n",
            "|         34.000000|\n",
            "|         25.000000|\n",
            "|         15.000000|\n",
            "|         51.000000|\n",
            "|         22.000000|\n",
            "+------------------+\n",
            "only showing top 20 rows\n",
            "\n"
          ]
        }
      ]
    },
    {
      "cell_type": "markdown",
      "source": [
        "# Salvando DataFrames\n",
        "\n",
        "Visualizar documentação sobre [entrada e saída de conjuntos de dados](https://spark.apache.org/docs/latest/api/python/getting_started/quickstart_df.html#Getting-Data-in/out)."
      ],
      "metadata": {
        "id": "MQitRV23p2Ol"
      }
    },
    {
      "cell_type": "markdown",
      "source": [
        "## Salvando como Parquet"
      ],
      "metadata": {
        "id": "Z996X2bjqIjE"
      }
    },
    {
      "cell_type": "markdown",
      "source": [
        "O formato de arquivos `.parquet` é conhecido por ser mais eficiente para disponibilização e consulta de informações em um conjunto de dados. Mais informações podem ser obtidas no [site oficial](https://parquet.apache.org/)."
      ],
      "metadata": {
        "id": "CSBeuwevsAzF"
      }
    },
    {
      "cell_type": "code",
      "source": [
        "train_df.write.parquet('training_data.parquet')"
      ],
      "metadata": {
        "id": "J1XTd9kNqLBc"
      },
      "execution_count": 49,
      "outputs": []
    },
    {
      "cell_type": "code",
      "source": [
        "parquet_df = sc.read.parquet(\"training_data.parquet\")"
      ],
      "metadata": {
        "id": "hWmFISberuek"
      },
      "execution_count": 55,
      "outputs": []
    },
    {
      "cell_type": "code",
      "source": [
        "parquet_df.show(4)"
      ],
      "metadata": {
        "colab": {
          "base_uri": "https://localhost:8080/"
        },
        "id": "3BorW81CrzQH",
        "outputId": "d7798377-97f2-4494-e446-3d41198ac03e"
      },
      "execution_count": 56,
      "outputs": [
        {
          "output_type": "stream",
          "name": "stdout",
          "text": [
            "+-----------+---------+------------------+-----------+--------------+-----------+----------+-------------+------------------+\n",
            "|  longitude| latitude|housing_median_age|total_rooms|total_bedrooms| population|households|median_income|median_house_value|\n",
            "+-----------+---------+------------------+-----------+--------------+-----------+----------+-------------+------------------+\n",
            "|-114.310000|34.190000|         15.000000|5612.000000|   1283.000000|1015.000000|472.000000|     1.493600|      66900.000000|\n",
            "|-114.470000|34.400000|         19.000000|7650.000000|   1901.000000|1129.000000|463.000000|     1.820000|      80100.000000|\n",
            "|-114.560000|33.690000|         17.000000| 720.000000|    174.000000| 333.000000|117.000000|     1.650900|      85700.000000|\n",
            "|-114.570000|33.640000|         14.000000|1501.000000|    337.000000| 515.000000|226.000000|     3.191700|      73400.000000|\n",
            "+-----------+---------+------------------+-----------+--------------+-----------+----------+-------------+------------------+\n",
            "only showing top 4 rows\n",
            "\n"
          ]
        }
      ]
    },
    {
      "cell_type": "markdown",
      "source": [
        "## Salvando como ORC"
      ],
      "metadata": {
        "id": "KqTfxSjdr4Hk"
      }
    },
    {
      "cell_type": "markdown",
      "source": [
        "O formato de arquivos `.orc` é um formato de armazenamento de dados utilizado pelo ecosistema [**Hadoop**](https://hadoop.apache.org/) que tem suporte a transações ACID. Mais informações podem ser obtidas no [site oficial](https://orc.apache.org/)."
      ],
      "metadata": {
        "id": "8xf6ffarsaYc"
      }
    },
    {
      "cell_type": "code",
      "source": [
        "parquet_df.write.orc('training_data.orc')"
      ],
      "metadata": {
        "id": "lDPa_kuutAj7"
      },
      "execution_count": 59,
      "outputs": []
    },
    {
      "cell_type": "code",
      "source": [
        "orc_df = sc.read.orc('training_data.orc')"
      ],
      "metadata": {
        "id": "M2VZOpuYtOqt"
      },
      "execution_count": 60,
      "outputs": []
    },
    {
      "cell_type": "code",
      "source": [
        "orc_df.show(4)"
      ],
      "metadata": {
        "colab": {
          "base_uri": "https://localhost:8080/"
        },
        "id": "07mk_NEgtFW8",
        "outputId": "130e4c81-91a9-481b-dbea-6fd010794cca"
      },
      "execution_count": 61,
      "outputs": [
        {
          "output_type": "stream",
          "name": "stdout",
          "text": [
            "+-----------+---------+------------------+-----------+--------------+-----------+----------+-------------+------------------+\n",
            "|  longitude| latitude|housing_median_age|total_rooms|total_bedrooms| population|households|median_income|median_house_value|\n",
            "+-----------+---------+------------------+-----------+--------------+-----------+----------+-------------+------------------+\n",
            "|-114.310000|34.190000|         15.000000|5612.000000|   1283.000000|1015.000000|472.000000|     1.493600|      66900.000000|\n",
            "|-114.470000|34.400000|         19.000000|7650.000000|   1901.000000|1129.000000|463.000000|     1.820000|      80100.000000|\n",
            "|-114.560000|33.690000|         17.000000| 720.000000|    174.000000| 333.000000|117.000000|     1.650900|      85700.000000|\n",
            "|-114.570000|33.640000|         14.000000|1501.000000|    337.000000| 515.000000|226.000000|     3.191700|      73400.000000|\n",
            "+-----------+---------+------------------+-----------+--------------+-----------+----------+-------------+------------------+\n",
            "only showing top 4 rows\n",
            "\n"
          ]
        }
      ]
    }
  ]
}